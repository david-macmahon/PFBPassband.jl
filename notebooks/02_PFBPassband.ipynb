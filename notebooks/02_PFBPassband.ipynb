{
 "cells": [
  {
   "cell_type": "markdown",
   "metadata": {},
   "source": [
    "# Introducing the `PFBPassband.jl` package\n",
    "\n",
    "A [companion notebook](01_pfb_response.ipynb) describes how to calculate both\n",
    "the unaliased and aliased frequeuncy response of a *polyphase filter bank*\n",
    "(PFB).  In this notebook we will explore `PFBPassband.jl`, which provides a high\n",
    "level interface for calculating the aliased PFB frequency response.  The aliased\n",
    "PFB frequency response is often referred to a the *PFB passband*, hence the\n",
    "package name.  As mentioned in the package's [`README.md`](../README.md) file,\n",
    "which this notebook largely follows, the unaliased frequency response of a PFB\n",
    "can be obtained by using the [`DSP.jl`](https://docs.juliadsp.org/latest/)\n",
    "pacakge with the PFB coefficients obtained from `PFBPassband.jl`.  In this\n",
    "notebook, \"frequency response\" will generally refer to the unaliased frequency\n",
    "response while \"passband\" will generally to refer to the aliased frequency\n",
    "response.\n",
    "\n",
    "We will also look at PFB passbands of real world PFBs from the [Green Bank\n",
    "Telescope](https://en.wikipedia.org/wiki/Green_Bank_Telescope) and the [MeerKAT\n",
    "Radio Telescope](https://en.wikipedia.org/wiki/MeerKAT).\n",
    "\n",
    "First we have to setup the environment for this notebook.  This may take some\n",
    "time (and produce more output) the first time you run it."
   ]
  },
  {
   "cell_type": "code",
   "execution_count": 1,
   "metadata": {},
   "outputs": [
    {
     "name": "stderr",
     "output_type": "stream",
     "text": [
      "\u001b[32m\u001b[1m  Activating\u001b[22m\u001b[39m project at `~/.julia/dev/PFBPassband/notebooks`\n"
     ]
    }
   ],
   "source": [
    "import Pkg\n",
    "Pkg.activate(@__DIR__)\n",
    "if Pkg.is_manifest_current() != true\n",
    "    Pkg.develop(path=\"..\") # Needed until package is registered in General\n",
    "    Pkg.precompile();\n",
    "end"
   ]
  },
  {
   "cell_type": "markdown",
   "metadata": {},
   "source": [
    "## PFB specifications"
   ]
  },
  {
   "cell_type": "markdown",
   "metadata": {},
   "source": [
    "### Low level PFB specification\n",
    "\n",
    "The (unaliased) response of the PFB filter coefficients at a given frequency can\n",
    "be computed from the coefficients alone (and the given frequency).  To compute\n",
    "the (aliased) passband of a PFB channel at a given frequency within the channel\n",
    "we also need to know the number of channels of the PFB so we will know how the\n",
    "post-decimation power will alias into the PFB channel.  The `PFBPassband.jl`\n",
    "package provides the `passband(h, nchan, nfine)` which will compute the\n",
    "(aliases) passband response for `nfine` evenly spaced points across a PFB\n",
    "channel for the given `nchan` channel PFB with coefficients, `h`.  Here again\n",
    "the `nchan` value includes both positive and negative frequencies.  This method\n",
    "computes the PFB channel passband for any PFB whose coefficients are and number\n",
    "of channels are known."
   ]
  },
  {
   "cell_type": "markdown",
   "metadata": {},
   "source": [
    "### High level PFB specification\n",
    "\n",
    "While specifying a PFB by its filter coefficiients and number of channels is\n",
    "extremely generalized, it is also possible to specify a PFB by a small number of\n",
    "parameters and an implicit parameterized implementation.  One example of this,\n",
    "and the primary/initial focus of the `PFBPassband.jl` package, is the PFB\n",
    "implementation of the CASPER tool flow.\n",
    "\n",
    "The CASPER PFB is parameterized by several parameters, including one that\n",
    "indicates whether to model a known buggy version of the CASPER PFB.\n",
    "The `PFBPassband.jl` package provides the `CasperPolyphaseFilterbank` structure\n",
    "that encapsulates these parameters.  As specified in the `README.md` file, these\n",
    "parameters are:\n",
    "\n",
    "- Number of channels (`nchan`)\n",
    "- Number of taps (`ntaps`)\n",
    "- Normalized channel width (`width`)\n",
    "- Windowing function (`window`)\n",
    "- Low pass filter function (`lpf`)\n",
    "- Bug flag (whether to model bug) (`bug`)\n",
    "\n",
    "Please refer the `README.md` file and/or the doc string of the\n",
    "`CasperPolyphaseFilterbank` structure for more information.  The\n",
    "`PFBPassband.jl` package provides several constructors for thie structure, but\n",
    "for maximum clarity we will use the one that takes only keywaord arguments.\n",
    "\n",
    "Other PFB implementations can be added in future versions of `PFBPassband.jl`."
   ]
  },
  {
   "cell_type": "markdown",
   "metadata": {},
   "source": [
    "## PFB frequency response (unaliased)\n",
    "\n",
    "The (unaliased) frequency response of a PFB can be computed by using the\n",
    "`DSP.jl` pacakge.  This requires obtaining the PFB filter coefficients.  Because\n",
    "there is no aliasing, the number of PFB channels is not important for the\n",
    "response itself, but it can be useful to know when interpreting/plotting the\n",
    "response.\n",
    "\n",
    "Let's compare the (unaliased) freqeuncy response of two CASPER PFBs that share\n",
    "common design parameters except for the `width` parameter.  One will have\n",
    "`width=1` and the other will have `width=7/8`.  We will plot the frequency\n",
    "response for three adjacent PFB channels using 64 points per coarse channel."
   ]
  },
  {
   "cell_type": "code",
   "execution_count": 7,
   "metadata": {},
   "outputs": [
    {
     "ename": "UndefVarError",
     "evalue": "UndefVarError: `coeffcache` not defined",
     "output_type": "error",
     "traceback": [
      "UndefVarError: `coeffcache` not defined\n",
      "\n",
      "Stacktrace:\n",
      " [1] top-level scope\n",
      "   @ ~/.julia/dev/PFBPassband/notebooks/02_PFBPassband.ipynb:23"
     ]
    }
   ],
   "source": [
    "using PFBPassband, DSP, Plots\n",
    "\n",
    "# Specify common PFB parameters\n",
    "nchan = 16\n",
    "ntaps = 8\n",
    "# Create PFBs\n",
    "pfb1 = CasperPolyphaseFilterbank(nchan, ntaps, width=1.0)\n",
    "pfb2 = CasperPolyphaseFilterbank(nchan, ntaps, width=7/8)\n",
    "\n",
    "# Generate w values at which to plot central channel\n",
    "nfine = 64\n",
    "w = range(-2/nchan, step=1/(nchan*nfine), stop=+2/nchan) .* π;\n",
    "\n",
    "# For thwse small/few PFBs, calling coefs repeatedly isn't a big deal,\n",
    "# but for larger/more PFBs caching the results can be beneficial.\n",
    "caefcache = Dict{CasperPolyphaseFilterbank,Vector{Float64}}()\n",
    "\n",
    "# For each PFB, plot the frequency response for each of the three channels\n",
    "p = plot(title=\"PFB width comparison\", xlabel=\"PFB channel\", xticks=-1:1, ylabel=\"dBc\")\n",
    "for c in -1:1\n",
    "    for (pfb, ls) in ((pfb1, :solid), (pfb2, :dash))\n",
    "        # Get coefs from cache (and add as needed)\n",
    "        h = get!(()->coefs(pfb), coefcache, pfb)\n",
    "        hc = h .* cispi.(2*c.*(0:nchan*ntaps-1)/nchan)\n",
    "        H = freqresp(PolynomialRatio(hc, [1]), w);\n",
    "        plot!(p, w*nchan/2π, 10log10.(abs2.(H)); ls, color=c+2, label=\"chan $c width $(pfb.width)\")\n",
    "    end\n",
    "end\n",
    "\n",
    "vline!(p, -1.5:1.5, lc=:gray, ls=:dashdot, primary=false)"
   ]
  }
 ],
 "metadata": {
  "kernelspec": {
   "display_name": "Julia 1.10.4",
   "language": "julia",
   "name": "julia-1.10"
  },
  "language_info": {
   "file_extension": ".jl",
   "mimetype": "application/julia",
   "name": "julia",
   "version": "1.10.4"
  }
 },
 "nbformat": 4,
 "nbformat_minor": 2
}
